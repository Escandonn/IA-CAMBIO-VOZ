{
  "nbformat": 4,
  "nbformat_minor": 0,
  "metadata": {
    "colab": {
      "provenance": [],
      "authorship_tag": "ABX9TyNWGdsUTMqUoy1flTuVy9a0",
      "include_colab_link": true
    },
    "kernelspec": {
      "name": "python3",
      "display_name": "Python 3"
    },
    "language_info": {
      "name": "python"
    }
  },
  "cells": [
    {
      "cell_type": "markdown",
      "metadata": {
        "id": "view-in-github",
        "colab_type": "text"
      },
      "source": [
        "<a href=\"https://colab.research.google.com/github/Escandonn/IA-CAMBIO-VOZ/blob/main/Cambio_Voz_IA.ipynb\" target=\"_parent\"><img src=\"https://colab.research.google.com/assets/colab-badge.svg\" alt=\"Open In Colab\"/></a>"
      ]
    },
    {
      "cell_type": "markdown",
      "source": [
        "\n",
        "\n",
        "# Instalación de NeMo y Dependencias\n",
        "###  En la primera celda de código de tu notebook en Colab, ejecuta los siguientes comandos para instalar NeMo y las dependencias necesarias:\n"
      ],
      "metadata": {
        "id": "6NzzOe0LaRQM"
      }
    },
    {
      "cell_type": "code",
      "source": [
        "\n",
        "!pip install torch==1.10.0+cu113 torchvision==0.11.1+cu113 torchaudio==0.10.0+cu113 -f https://download.pytorch.org/whl/torch_stable.html\n",
        "BRANCH = 'r2.0.0rc0'\n",
        "!pip install git+https://github.com/NVIDIA/NeMo.git@$BRANCH#egg=nemo_toolkit[all]\n",
        "\n"
      ],
      "metadata": {
        "id": "XSQyMsfKZLe4"
      },
      "execution_count": null,
      "outputs": []
    },
    {
      "cell_type": "markdown",
      "source": [
        "# Importación de Bibliotecas y Configuración\n",
        "###  En la siguiente celda, importa las bibliotecas necesarias y configura tu entorno. Asegúrate de ignorar las advertencias de preproducción para mantener limpio el flujo de salida:"
      ],
      "metadata": {
        "id": "x5dS29iHaK0d"
      }
    },
    {
      "cell_type": "code",
      "source": [
        "\n",
        "import warnings\n",
        "warnings.filterwarnings('ignore')\n",
        "\n",
        "import nemo\n",
        "import nemo.collections.asr as nemo_asr\n",
        "import nemo.collections.nlp as nemo_nlp\n",
        "import nemo.collections.tts as nemo_tts\n",
        "from IPython.display import Audio\n",
        "\n",
        "\n"
      ],
      "metadata": {
        "id": "NxPFqMp_ZqaU"
      },
      "execution_count": null,
      "outputs": []
    },
    {
      "cell_type": "markdown",
      "source": [
        "# Descarga y Escucha del Audio de Ejemplo\n",
        "### Descarga un archivo de audio de ejemplo para utilizarlo en tu aplicación. Puedes usar un archivo de muestra de la base de datos LibriSpeech Dev Clean:"
      ],
      "metadata": {
        "id": "Jm4Xe5AZaKED"
      }
    },
    {
      "cell_type": "code",
      "source": [
        "\n",
        "Audio_sample = '2086-149220-0033.wav'\n",
        "!wget https://dldata-public.s3.us-east-2.amazonaws.com/2086-149220-0033.wav\n"
      ],
      "metadata": {
        "id": "MtqItjzeZ1NL"
      },
      "execution_count": null,
      "outputs": []
    },
    {
      "cell_type": "markdown",
      "source": [
        "# Escucha el archivo de audio descargado para verificar su contenido:"
      ],
      "metadata": {
        "id": "GO0BdqKTamkD"
      }
    },
    {
      "cell_type": "code",
      "source": [
        "Audio(Audio_sample)\n"
      ],
      "metadata": {
        "id": "M_9qedkDaB-8"
      },
      "execution_count": null,
      "outputs": []
    },
    {
      "cell_type": "markdown",
      "source": [
        "# Inicialización de Modelos Pre-entrenados\n",
        "### Inicializa los modelos pre-entrenados que usarás para el reconocimiento de voz, procesamiento de texto y síntesis de voz. En las siguientes celdas, inicializa los modelos ASR, NLP y TTS:"
      ],
      "metadata": {
        "id": "AEtinEH2bbYr"
      }
    },
    {
      "cell_type": "code",
      "source": [
        "# Modelo de Reconocimiento de Voz - QuartzNet\n",
        "quartznet = nemo_asr.models.EncDecCTCModel.from_pretrained(model_name=\"stt_en_quartznet15x5\").cuda()\n",
        "\n",
        "# Modelo de Puntuación y Capitalización\n",
        "punctuation = nemo_nlp.models.PunctuationCapitalizationModel.from_pretrained(model_name='punctuation_en_distilbert').cuda()\n",
        "\n",
        "# Generador de Espectrogramas - FastPitch\n",
        "spectrogram_generator = nemo_tts.models.FastPitchModel.from_pretrained(model_name=\"tts_en_fastpitch\").cuda()\n",
        "\n",
        "# Vocoder - HiFiGAN\n",
        "vocoder = nemo_tts.models.HifiGanModel.from_pretrained(model_name=\"tts_en_hifigan\").cuda()\n"
      ],
      "metadata": {
        "id": "XLyh-5-hbjnS"
      },
      "execution_count": null,
      "outputs": []
    },
    {
      "cell_type": "markdown",
      "source": [
        "# Procesamiento del Audio\n",
        "### Transcribe el audio de ejemplo a texto, luego agrega puntuación y capitalización al texto transcritor. Después, genera un nuevo audio donde la voz dice una frase diferente:"
      ],
      "metadata": {
        "id": "JVqqQZuOcBT7"
      }
    },
    {
      "cell_type": "code",
      "source": [
        "# Transcripción del audio de ejemplo\n",
        "files = [Audio_sample]\n",
        "raw_text = ''\n",
        "text = ''\n",
        "for fname, transcription in zip(files, quartznet.transcribe(audio=files)):\n",
        "    raw_text = transcription\n",
        "\n",
        "# Agregar puntuación y capitalización\n",
        "res = punctuation.add_punctuation_capitalization(queries=[raw_text])\n",
        "text = res[0]\n",
        "\n",
        "# Frase nueva a decir\n",
        "new_text = \"Hola, ¿cómo estás?\"\n",
        "\n",
        "# Función para convertir texto a audio\n",
        "def text_to_audio(text):\n",
        "    parsed = spectrogram_generator.parse(text)\n",
        "    spectrogram = spectrogram_generator.generate_spectrogram(tokens=parsed)\n",
        "    audio = vocoder.convert_spectrogram_to_audio(spec=spectrogram)\n",
        "    return audio.to('cpu').detach().numpy()\n",
        "\n",
        "# Audio original\n",
        "print(f'Texto reconocido sin procesar: {raw_text}.')\n",
        "Audio(Audio_sample)\n"
      ],
      "metadata": {
        "id": "Bq6lzhKkcF3r"
      },
      "execution_count": null,
      "outputs": []
    },
    {
      "cell_type": "markdown",
      "source": [
        "# Generación de Audio con la Nueva Frase\n",
        "### Genera un nuevo audio utilizando la voz del audio original pero diciendo la nueva frase:"
      ],
      "metadata": {
        "id": "32m-sVPzcXq1"
      }
    },
    {
      "cell_type": "code",
      "source": [
        "# Convertir la nueva frase a audio\n",
        "new_audio = text_to_audio(new_text)\n",
        "\n",
        "# Escuchar el nuevo audio generado\n",
        "print(f'Nueva frase: \"{new_text}\"')\n",
        "Audio(new_audio, rate=22050)\n"
      ],
      "metadata": {
        "id": "1SnLcvMkcbSW"
      },
      "execution_count": null,
      "outputs": []
    }
  ]
}